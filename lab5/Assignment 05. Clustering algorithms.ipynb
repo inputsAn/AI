{
 "cells": [
  {
   "cell_type": "markdown",
   "metadata": {},
   "source": [
    "# Лабораторная работа №5. Алгоритмы кластеризации данных\n",
    "## Общее задание\n",
    "\n",
    "Перед выполнением лабораторной работы необходимо загрузить набор данных в соответствии с вариантом на диск.\n",
    "\n",
    "1. Произвести масштабирование признаков (scaling).\n",
    "2. С использованием библиотеки scikit-learn написать программу с использованием алгоритмов кластеризации данных, позволяющую разделить исходную выборку на классы, соответствующие предложенной вариантом задаче (http://scikit-learn.org/stable/modules/clustering.html).\n",
    "3. Провести эксперименты и определить наилучший алгоритм кластеризации, параметры алгоритма. Необходимо использовать не менее 3-х алгоритмов. Данные экспериментов необходимо представить в отчете (графики, ход проведения эксперимента, выводы).\n",
    "\n",
    "\n",
    "## Варианты\n",
    "Массивы данных берутся из UCI Machine Learning Repository\n",
    "\n",
    "Вариант определяется набором данных, который можно загрузить по ссылке выше:\n",
    "1. Sponge\n",
    "2. Water Treatment Plant\n",
    "3. Synthetic Control Chart Time Series\n",
    "4. Character Trajectories\n",
    "5. Plants\n",
    "6. Libras Movement\n",
    "7. KEGG Metabolic Relation Network (Directed)\n",
    "8. SMS Spam Collection\n",
    "9. seeds\n",
    "10. Human Activity Recognition Using Smartphones\n",
    "11. User Knowledge Modeling\n",
    "12. NYSK\n",
    "13. Activities of Daily Living (ADLs) Recognition Using Binary Sensors\n",
    "14. Dresses_Attribute_Sales\n",
    "15. Wholesale customers\n",
    "16. StoneFlakes\n",
    "17. Gesture Phase Segmentation\n",
    "18. AAAI 2014 Accepted Papers\n",
    "19. Dow Jones Index\n",
    "20. AAAI 2013 Accepted Papers\n",
    "21. wiki4HE\n",
    "22. Folio\n",
    "23. Mice Protein Expression\n",
    "24. Improved Spiral Test Using Digitized Graphics Tablet for Monitoring Parkinson’s Disease"
   ]
  },
  {
   "attachments": {},
   "cell_type": "markdown",
   "metadata": {},
   "source": [
    "## Вариант 6\n",
    "\n",
    "Датасет: Libras Movement"
   ]
  },
  {
   "cell_type": "code",
   "execution_count": 1,
   "metadata": {},
   "outputs": [],
   "source": [
    "import numpy as np\n",
    "import pandas as pd\n",
    "from sklearn import preprocessing\n",
    "from sklearn.metrics import normalized_mutual_info_score\n",
    "from sklearn.cluster import KMeans\n",
    "from sklearn.cluster import MiniBatchKMeans\n",
    "from sklearn.cluster import AffinityPropagation"
   ]
  },
  {
   "cell_type": "markdown",
   "metadata": {},
   "source": [
    "Загрузка данных."
   ]
  },
  {
   "cell_type": "code",
   "execution_count": 2,
   "metadata": {},
   "outputs": [],
   "source": [
    "df = pd.read_csv('movement_libras.csv')\n",
    "x_data = np.array(df.drop('class', axis=1)) # Данные \n",
    "y_data = np.array(df['class']) # Класс \n"
   ]
  },
  {
   "cell_type": "markdown",
   "metadata": {},
   "source": [
    "1. Произвести масштабирование признаков (scaling)."
   ]
  },
  {
   "cell_type": "code",
   "execution_count": 3,
   "metadata": {},
   "outputs": [],
   "source": [
    "scaler = preprocessing.StandardScaler()\n",
    "x_data = scaler.fit_transform(x_data)"
   ]
  },
  {
   "cell_type": "markdown",
   "metadata": {},
   "source": [
    "2. С использованием библиотеки scikit-learn написать программу с использованием алгоритмов кластеризации данных, позволяющую разделить исходную выборку на классы, соответствующие предложенной вариантом задаче."
   ]
  },
  {
   "cell_type": "code",
   "execution_count": 4,
   "metadata": {},
   "outputs": [
    {
     "name": "stdout",
     "output_type": "stream",
     "text": [
      "Точность кластеризации KMeans:  0.5843906008605559\n",
      "Точность кластеризации MiniBatchKMeans:  0.5378774349840285\n",
      "Точность кластеризации AffinityPropagation:  0.6347278357013262\n"
     ]
    }
   ],
   "source": [
    "#KMeans\n",
    "kmeans = KMeans(n_clusters=15)  # Создание объекта KMeans\n",
    "kmeans.fit(x_data)  # Применение алгоритма кластеризации KMeans к масштабированным данным\n",
    "kmeans_score = normalized_mutual_info_score(y_data, kmeans.labels_)  # Вычисление нормализованного взаимного информационного коэффициента для оценки точности кластеризации\n",
    "\n",
    "#print(kmeans.labels_) # Вывод меток кластеров KMeans\n",
    "print(\"Точность кластеризации KMeans: \", kmeans_score)\n",
    "\n",
    "\n",
    "#MiniBatchKMeans\n",
    "mini_batch_kmeans = MiniBatchKMeans(n_clusters=15) # Создание объекта MiniBatchKMeans \n",
    "mini_batch_kmeans.fit(x_data)  # Применение алгоритма кластеризации MiniBatchKMeans\n",
    "mini_batch_kmeans_score = normalized_mutual_info_score(y_data, mini_batch_kmeans.labels_)  # Вычисление нормализованного взаимного информационного коэффициента для оценки точности кластеризации\n",
    "\n",
    "print(\"Точность кластеризации MiniBatchKMeans: \", mini_batch_kmeans_score)\n",
    "\n",
    "\n",
    "#AffinityPropagation\n",
    "affinity_propagation = AffinityPropagation()  # Создание объекта AffinityPropagation\n",
    "affinity_propagation.fit(x_data)  # Применение алгоритма кластеризации AffinityPropagation\n",
    "affinity_propagation_score = normalized_mutual_info_score(y_data, affinity_propagation.labels_) # Вычисление нормализованного взаимного информационного коэффициента для оценки точности кластеризации\n",
    "\n",
    "print(\"Точность кластеризации AffinityPropagation: \", affinity_propagation_score)\n",
    "\n"
   ]
  },
  {
   "cell_type": "markdown",
   "metadata": {},
   "source": [
    "3. Провести эксперименты и определить наилучший алгоритм кластеризации, параметры алгоритма. Необходимо использовать не менее 3-х алгоритмов. Данные экспериментов необходимо представить в отчете (графики, ход проведения эксперимента, выводы)."
   ]
  },
  {
   "cell_type": "markdown",
   "metadata": {},
   "source": [
    "#### Подбор параметров для KMeans."
   ]
  },
  {
   "cell_type": "code",
   "execution_count": 5,
   "metadata": {},
   "outputs": [
    {
     "name": "stdout",
     "output_type": "stream",
     "text": [
      "Лучшая точность KMeans:  0.6180195978989597\n",
      "Лучшее значение параметра n_clusters:  15\n",
      "Лучшее значение параметра n_init:  3\n"
     ]
    }
   ],
   "source": [
    "# Инициализация переменных для хранения лучших значений параметров и точности кластеризации\n",
    "best_n_clusters = 1\n",
    "best_n_init = 1\n",
    "best_kmeans_score = -1e20\n",
    "\n",
    "# Цикл для перебора возможных значений параметров n_clusters и n_init\n",
    "for n_clusters in range(1, 16):\n",
    "    for n_init in range(1, 20):     # n_init определяет, сколько раз алгоритм будет запускаться с различными начальными центрами кластеров. Это полезно для нахождения глобального минимума.\n",
    "        # Создание объекта KMeans с текущими значениями параметров\n",
    "        kmeans = KMeans(n_clusters=n_clusters, n_init=n_init)\n",
    "        \n",
    "        # Применение алгоритма кластеризации KMeans к масштабированным данным\n",
    "        kmeans.fit(x_data)\n",
    "        \n",
    "        # Вычисление нормализованного взаимного информационного коэффициента для оценки точности кластеризации\n",
    "        kmeans_score = normalized_mutual_info_score(y_data, kmeans.labels_)\n",
    "        \n",
    "        # Обновление лучших значений параметров и точности кластеризации, если текущая точность выше\n",
    "        if kmeans_score > best_kmeans_score:\n",
    "            best_kmeans_score = kmeans_score\n",
    "            best_n_clusters = n_clusters\n",
    "            best_n_init = n_init\n",
    "\n",
    "# Вывод лучших значений параметров и точности кластеризации\n",
    "print('Лучшая точность KMeans: ', best_kmeans_score)\n",
    "print('Лучшее значение параметра n_clusters: ', best_n_clusters)\n",
    "print('Лучшее значение параметра n_init: ', best_n_init)\n"
   ]
  },
  {
   "cell_type": "markdown",
   "metadata": {},
   "source": [
    "#### Подбор параметров для MiniBatchKMeans."
   ]
  },
  {
   "cell_type": "code",
   "execution_count": 6,
   "metadata": {},
   "outputs": [
    {
     "name": "stdout",
     "output_type": "stream",
     "text": [
      "Лучшая точность MiniBatchKMeans:  0.6058983213175402\n",
      "Лучшее значение параметра n_clusters:  15\n",
      "Лучшее значение параметра n_init:  6\n"
     ]
    }
   ],
   "source": [
    "# Инициализация переменных для хранения лучших значений параметров и точности кластеризации\n",
    "best_n_clusters = 1\n",
    "best_n_init = 1\n",
    "best_mini_batch_kmeans_score = -1e20\n",
    "\n",
    "# Цикл для перебора возможных значений параметров n_clusters и n_init\n",
    "for n_clusters in range(1, 16):\n",
    "    for n_init in range(1, 20):        # n_init определяет, сколько раз алгоритм будет запускаться с различными начальными центрами кластеров. Это полезно для нахождения глобального минимума.\n",
    "        # Создание объекта MiniBatchKMeans с текущими значениями параметров\n",
    "        mini_batch_kmeans = MiniBatchKMeans(n_clusters=n_clusters, n_init=n_init)\n",
    "        \n",
    "        # Применение алгоритма кластеризации MiniBatchKMeans к масштабированным данным\n",
    "        mini_batch_kmeans.fit(x_data)\n",
    "        \n",
    "        # Вычисление нормализованного взаимного информационного коэффициента для оценки точности кластеризации\n",
    "        mini_batch_kmeans_score = normalized_mutual_info_score(y_data, mini_batch_kmeans.labels_)\n",
    "        \n",
    "        # Обновление лучших значений параметров и точности кластеризации, если текущая точность выше\n",
    "        if mini_batch_kmeans_score > best_mini_batch_kmeans_score:\n",
    "            best_mini_batch_kmeans_score = mini_batch_kmeans_score\n",
    "            best_n_clusters = n_clusters\n",
    "            best_n_init = n_init\n",
    "\n",
    "# Вывод лучших значений параметров и точности кластеризации\n",
    "print('Лучшая точность MiniBatchKMeans: ', best_mini_batch_kmeans_score)\n",
    "print('Лучшее значение параметра n_clusters: ', best_n_clusters)\n",
    "print('Лучшее значение параметра n_init: ', best_n_init)\n"
   ]
  },
  {
   "cell_type": "markdown",
   "metadata": {},
   "source": [
    "#### Подбор параметров для AffinityPropagation."
   ]
  },
  {
   "cell_type": "code",
   "execution_count": 7,
   "metadata": {},
   "outputs": [
    {
     "name": "stderr",
     "output_type": "stream",
     "text": [
      "c:\\Users\\AI\\myvenv\\lib\\site-packages\\sklearn\\cluster\\_affinity_propagation.py:142: ConvergenceWarning: Affinity propagation did not converge, this model may return degenerate cluster centers and labels.\n",
      "  warnings.warn(\n",
      "c:\\Users\\AI\\myvenv\\lib\\site-packages\\sklearn\\cluster\\_affinity_propagation.py:142: ConvergenceWarning: Affinity propagation did not converge, this model may return degenerate cluster centers and labels.\n",
      "  warnings.warn(\n",
      "c:\\Users\\AI\\myvenv\\lib\\site-packages\\sklearn\\cluster\\_affinity_propagation.py:142: ConvergenceWarning: Affinity propagation did not converge, this model may return degenerate cluster centers and labels.\n",
      "  warnings.warn(\n",
      "c:\\Users\\AI\\myvenv\\lib\\site-packages\\sklearn\\cluster\\_affinity_propagation.py:142: ConvergenceWarning: Affinity propagation did not converge, this model may return degenerate cluster centers and labels.\n",
      "  warnings.warn(\n",
      "c:\\Users\\AI\\myvenv\\lib\\site-packages\\sklearn\\cluster\\_affinity_propagation.py:142: ConvergenceWarning: Affinity propagation did not converge, this model may return degenerate cluster centers and labels.\n",
      "  warnings.warn(\n",
      "c:\\Users\\AI\\myvenv\\lib\\site-packages\\sklearn\\cluster\\_affinity_propagation.py:142: ConvergenceWarning: Affinity propagation did not converge, this model may return degenerate cluster centers and labels.\n",
      "  warnings.warn(\n",
      "c:\\Users\\AI\\myvenv\\lib\\site-packages\\sklearn\\cluster\\_affinity_propagation.py:142: ConvergenceWarning: Affinity propagation did not converge, this model may return degenerate cluster centers and labels.\n",
      "  warnings.warn(\n",
      "c:\\Users\\AI\\myvenv\\lib\\site-packages\\sklearn\\cluster\\_affinity_propagation.py:142: ConvergenceWarning: Affinity propagation did not converge, this model may return degenerate cluster centers and labels.\n",
      "  warnings.warn(\n",
      "c:\\Users\\AI\\myvenv\\lib\\site-packages\\sklearn\\cluster\\_affinity_propagation.py:142: ConvergenceWarning: Affinity propagation did not converge, this model may return degenerate cluster centers and labels.\n",
      "  warnings.warn(\n",
      "c:\\Users\\AI\\myvenv\\lib\\site-packages\\sklearn\\cluster\\_affinity_propagation.py:142: ConvergenceWarning: Affinity propagation did not converge, this model may return degenerate cluster centers and labels.\n",
      "  warnings.warn(\n",
      "c:\\Users\\AI\\myvenv\\lib\\site-packages\\sklearn\\cluster\\_affinity_propagation.py:142: ConvergenceWarning: Affinity propagation did not converge, this model may return degenerate cluster centers and labels.\n",
      "  warnings.warn(\n",
      "c:\\Users\\AI\\myvenv\\lib\\site-packages\\sklearn\\cluster\\_affinity_propagation.py:142: ConvergenceWarning: Affinity propagation did not converge, this model may return degenerate cluster centers and labels.\n",
      "  warnings.warn(\n",
      "c:\\Users\\AI\\myvenv\\lib\\site-packages\\sklearn\\cluster\\_affinity_propagation.py:142: ConvergenceWarning: Affinity propagation did not converge, this model may return degenerate cluster centers and labels.\n",
      "  warnings.warn(\n",
      "c:\\Users\\AI\\myvenv\\lib\\site-packages\\sklearn\\cluster\\_affinity_propagation.py:142: ConvergenceWarning: Affinity propagation did not converge, this model may return degenerate cluster centers and labels.\n",
      "  warnings.warn(\n",
      "c:\\Users\\AI\\myvenv\\lib\\site-packages\\sklearn\\cluster\\_affinity_propagation.py:142: ConvergenceWarning: Affinity propagation did not converge, this model may return degenerate cluster centers and labels.\n",
      "  warnings.warn(\n",
      "c:\\Users\\AI\\myvenv\\lib\\site-packages\\sklearn\\cluster\\_affinity_propagation.py:142: ConvergenceWarning: Affinity propagation did not converge, this model may return degenerate cluster centers and labels.\n",
      "  warnings.warn(\n",
      "c:\\Users\\AI\\myvenv\\lib\\site-packages\\sklearn\\cluster\\_affinity_propagation.py:142: ConvergenceWarning: Affinity propagation did not converge, this model may return degenerate cluster centers and labels.\n",
      "  warnings.warn(\n",
      "c:\\Users\\AI\\myvenv\\lib\\site-packages\\sklearn\\cluster\\_affinity_propagation.py:142: ConvergenceWarning: Affinity propagation did not converge, this model may return degenerate cluster centers and labels.\n",
      "  warnings.warn(\n",
      "c:\\Users\\AI\\myvenv\\lib\\site-packages\\sklearn\\cluster\\_affinity_propagation.py:142: ConvergenceWarning: Affinity propagation did not converge, this model may return degenerate cluster centers and labels.\n",
      "  warnings.warn(\n",
      "c:\\Users\\AI\\myvenv\\lib\\site-packages\\sklearn\\cluster\\_affinity_propagation.py:142: ConvergenceWarning: Affinity propagation did not converge, this model may return degenerate cluster centers and labels.\n",
      "  warnings.warn(\n",
      "c:\\Users\\AI\\myvenv\\lib\\site-packages\\sklearn\\cluster\\_affinity_propagation.py:142: ConvergenceWarning: Affinity propagation did not converge, this model may return degenerate cluster centers and labels.\n",
      "  warnings.warn(\n",
      "c:\\Users\\AI\\myvenv\\lib\\site-packages\\sklearn\\cluster\\_affinity_propagation.py:142: ConvergenceWarning: Affinity propagation did not converge, this model may return degenerate cluster centers and labels.\n",
      "  warnings.warn(\n",
      "c:\\Users\\AI\\myvenv\\lib\\site-packages\\sklearn\\cluster\\_affinity_propagation.py:142: ConvergenceWarning: Affinity propagation did not converge, this model may return degenerate cluster centers and labels.\n",
      "  warnings.warn(\n",
      "c:\\Users\\AI\\myvenv\\lib\\site-packages\\sklearn\\cluster\\_affinity_propagation.py:142: ConvergenceWarning: Affinity propagation did not converge, this model may return degenerate cluster centers and labels.\n",
      "  warnings.warn(\n",
      "c:\\Users\\AI\\myvenv\\lib\\site-packages\\sklearn\\cluster\\_affinity_propagation.py:142: ConvergenceWarning: Affinity propagation did not converge, this model may return degenerate cluster centers and labels.\n",
      "  warnings.warn(\n",
      "c:\\Users\\AI\\myvenv\\lib\\site-packages\\sklearn\\cluster\\_affinity_propagation.py:142: ConvergenceWarning: Affinity propagation did not converge, this model may return degenerate cluster centers and labels.\n",
      "  warnings.warn(\n",
      "c:\\Users\\AI\\myvenv\\lib\\site-packages\\sklearn\\cluster\\_affinity_propagation.py:142: ConvergenceWarning: Affinity propagation did not converge, this model may return degenerate cluster centers and labels.\n",
      "  warnings.warn(\n",
      "c:\\Users\\AI\\myvenv\\lib\\site-packages\\sklearn\\cluster\\_affinity_propagation.py:142: ConvergenceWarning: Affinity propagation did not converge, this model may return degenerate cluster centers and labels.\n",
      "  warnings.warn(\n",
      "c:\\Users\\AI\\myvenv\\lib\\site-packages\\sklearn\\cluster\\_affinity_propagation.py:142: ConvergenceWarning: Affinity propagation did not converge, this model may return degenerate cluster centers and labels.\n",
      "  warnings.warn(\n",
      "c:\\Users\\AI\\myvenv\\lib\\site-packages\\sklearn\\cluster\\_affinity_propagation.py:142: ConvergenceWarning: Affinity propagation did not converge, this model may return degenerate cluster centers and labels.\n",
      "  warnings.warn(\n",
      "c:\\Users\\AI\\myvenv\\lib\\site-packages\\sklearn\\cluster\\_affinity_propagation.py:142: ConvergenceWarning: Affinity propagation did not converge, this model may return degenerate cluster centers and labels.\n",
      "  warnings.warn(\n",
      "c:\\Users\\AI\\myvenv\\lib\\site-packages\\sklearn\\cluster\\_affinity_propagation.py:142: ConvergenceWarning: Affinity propagation did not converge, this model may return degenerate cluster centers and labels.\n",
      "  warnings.warn(\n",
      "c:\\Users\\AI\\myvenv\\lib\\site-packages\\sklearn\\cluster\\_affinity_propagation.py:142: ConvergenceWarning: Affinity propagation did not converge, this model may return degenerate cluster centers and labels.\n",
      "  warnings.warn(\n",
      "c:\\Users\\AI\\myvenv\\lib\\site-packages\\sklearn\\cluster\\_affinity_propagation.py:142: ConvergenceWarning: Affinity propagation did not converge, this model may return degenerate cluster centers and labels.\n",
      "  warnings.warn(\n",
      "c:\\Users\\AI\\myvenv\\lib\\site-packages\\sklearn\\cluster\\_affinity_propagation.py:142: ConvergenceWarning: Affinity propagation did not converge, this model may return degenerate cluster centers and labels.\n",
      "  warnings.warn(\n",
      "c:\\Users\\AI\\myvenv\\lib\\site-packages\\sklearn\\cluster\\_affinity_propagation.py:142: ConvergenceWarning: Affinity propagation did not converge, this model may return degenerate cluster centers and labels.\n",
      "  warnings.warn(\n",
      "c:\\Users\\AI\\myvenv\\lib\\site-packages\\sklearn\\cluster\\_affinity_propagation.py:142: ConvergenceWarning: Affinity propagation did not converge, this model may return degenerate cluster centers and labels.\n",
      "  warnings.warn(\n",
      "c:\\Users\\AI\\myvenv\\lib\\site-packages\\sklearn\\cluster\\_affinity_propagation.py:142: ConvergenceWarning: Affinity propagation did not converge, this model may return degenerate cluster centers and labels.\n",
      "  warnings.warn(\n",
      "c:\\Users\\AI\\myvenv\\lib\\site-packages\\sklearn\\cluster\\_affinity_propagation.py:142: ConvergenceWarning: Affinity propagation did not converge, this model may return degenerate cluster centers and labels.\n",
      "  warnings.warn(\n",
      "c:\\Users\\AI\\myvenv\\lib\\site-packages\\sklearn\\cluster\\_affinity_propagation.py:142: ConvergenceWarning: Affinity propagation did not converge, this model may return degenerate cluster centers and labels.\n",
      "  warnings.warn(\n",
      "c:\\Users\\AI\\myvenv\\lib\\site-packages\\sklearn\\cluster\\_affinity_propagation.py:142: ConvergenceWarning: Affinity propagation did not converge, this model may return degenerate cluster centers and labels.\n",
      "  warnings.warn(\n",
      "c:\\Users\\AI\\myvenv\\lib\\site-packages\\sklearn\\cluster\\_affinity_propagation.py:142: ConvergenceWarning: Affinity propagation did not converge, this model may return degenerate cluster centers and labels.\n",
      "  warnings.warn(\n",
      "c:\\Users\\AI\\myvenv\\lib\\site-packages\\sklearn\\cluster\\_affinity_propagation.py:142: ConvergenceWarning: Affinity propagation did not converge, this model may return degenerate cluster centers and labels.\n",
      "  warnings.warn(\n",
      "c:\\Users\\AI\\myvenv\\lib\\site-packages\\sklearn\\cluster\\_affinity_propagation.py:142: ConvergenceWarning: Affinity propagation did not converge, this model may return degenerate cluster centers and labels.\n",
      "  warnings.warn(\n",
      "c:\\Users\\AI\\myvenv\\lib\\site-packages\\sklearn\\cluster\\_affinity_propagation.py:142: ConvergenceWarning: Affinity propagation did not converge, this model may return degenerate cluster centers and labels.\n",
      "  warnings.warn(\n",
      "c:\\Users\\AI\\myvenv\\lib\\site-packages\\sklearn\\cluster\\_affinity_propagation.py:142: ConvergenceWarning: Affinity propagation did not converge, this model may return degenerate cluster centers and labels.\n",
      "  warnings.warn(\n",
      "c:\\Users\\AI\\myvenv\\lib\\site-packages\\sklearn\\cluster\\_affinity_propagation.py:142: ConvergenceWarning: Affinity propagation did not converge, this model may return degenerate cluster centers and labels.\n",
      "  warnings.warn(\n",
      "c:\\Users\\AI\\myvenv\\lib\\site-packages\\sklearn\\cluster\\_affinity_propagation.py:142: ConvergenceWarning: Affinity propagation did not converge, this model may return degenerate cluster centers and labels.\n",
      "  warnings.warn(\n",
      "c:\\Users\\AI\\myvenv\\lib\\site-packages\\sklearn\\cluster\\_affinity_propagation.py:142: ConvergenceWarning: Affinity propagation did not converge, this model may return degenerate cluster centers and labels.\n",
      "  warnings.warn(\n",
      "c:\\Users\\AI\\myvenv\\lib\\site-packages\\sklearn\\cluster\\_affinity_propagation.py:142: ConvergenceWarning: Affinity propagation did not converge, this model may return degenerate cluster centers and labels.\n",
      "  warnings.warn(\n",
      "c:\\Users\\AI\\myvenv\\lib\\site-packages\\sklearn\\cluster\\_affinity_propagation.py:142: ConvergenceWarning: Affinity propagation did not converge, this model may return degenerate cluster centers and labels.\n",
      "  warnings.warn(\n",
      "c:\\Users\\AI\\myvenv\\lib\\site-packages\\sklearn\\cluster\\_affinity_propagation.py:142: ConvergenceWarning: Affinity propagation did not converge, this model may return degenerate cluster centers and labels.\n",
      "  warnings.warn(\n",
      "c:\\Users\\AI\\myvenv\\lib\\site-packages\\sklearn\\cluster\\_affinity_propagation.py:142: ConvergenceWarning: Affinity propagation did not converge, this model may return degenerate cluster centers and labels.\n",
      "  warnings.warn(\n",
      "c:\\Users\\AI\\myvenv\\lib\\site-packages\\sklearn\\cluster\\_affinity_propagation.py:142: ConvergenceWarning: Affinity propagation did not converge, this model may return degenerate cluster centers and labels.\n",
      "  warnings.warn(\n",
      "c:\\Users\\AI\\myvenv\\lib\\site-packages\\sklearn\\cluster\\_affinity_propagation.py:142: ConvergenceWarning: Affinity propagation did not converge, this model may return degenerate cluster centers and labels.\n",
      "  warnings.warn(\n",
      "c:\\Users\\AI\\myvenv\\lib\\site-packages\\sklearn\\cluster\\_affinity_propagation.py:142: ConvergenceWarning: Affinity propagation did not converge, this model may return degenerate cluster centers and labels.\n",
      "  warnings.warn(\n"
     ]
    },
    {
     "name": "stdout",
     "output_type": "stream",
     "text": [
      "Лучшая точность AffinityPropagation:  0.6904947978030197\n",
      "Лучшее значение параметра damping:  0.7842105263157895\n",
      "Лучшее значение параметра preference:  -23.684210526315788\n"
     ]
    }
   ],
   "source": [
    "# Инициализация переменных для хранения лучших значений параметров и точности кластеризации\n",
    "best_damping = 1\n",
    "best_preference = 1\n",
    "best_affinity_propagation_score = -1e20\n",
    "\n",
    "# Цикл для перебора возможных значений параметров damping и preference\n",
    "for damping in np.linspace(0.5, 0.8, 20):  # Перебор значений параметра damping от 0.5 до 0.8\n",
    "    for preference in np.linspace(-50, 50, 20):  # Перебор значений параметра preference от -50 до 50\n",
    "        # Создание объекта AffinityPropagation с текущими значениями параметров damping и preference\n",
    "        affinity_propagation = AffinityPropagation(damping=damping, preference=preference)\n",
    "        \n",
    "        # Применение алгоритма кластеризации AffinityPropagation к масштабированным данным\n",
    "        affinity_propagation.fit(x_data)\n",
    "        \n",
    "        # Вычисление нормализованного взаимного информационного коэффициента для оценки точности кластеризации\n",
    "        affinity_propagation_score = normalized_mutual_info_score(y_data, affinity_propagation.labels_)\n",
    "        \n",
    "        # Обновление лучших значений параметров и точности кластеризации, если текущая точность выше\n",
    "        if affinity_propagation_score > best_affinity_propagation_score:\n",
    "            best_affinity_propagation_score = affinity_propagation_score\n",
    "            best_damping = damping\n",
    "            best_preference = preference\n",
    "\n",
    "# Вывод лучших значений параметров и точности кластеризации\n",
    "print('Лучшая точность AffinityPropagation: ', best_affinity_propagation_score)\n",
    "print('Лучшее значение параметра damping: ', best_damping)\n",
    "print('Лучшее значение параметра preference: ', best_preference)"
   ]
  },
  {
   "cell_type": "markdown",
   "metadata": {},
   "source": [
    "#### Вывод"
   ]
  },
  {
   "cell_type": "code",
   "execution_count": 8,
   "metadata": {},
   "outputs": [
    {
     "name": "stdout",
     "output_type": "stream",
     "text": [
      "Точность метода KMeans: 0.6180195978989597\n",
      "Точность метода MiniBatchKMeans: 0.6058983213175402\n",
      "Точность метода AffinityPropagation: 0.6904947978030197\n",
      "\n",
      "Итог: лучшим оказался метод AffinityPropagation\n"
     ]
    }
   ],
   "source": [
    "method_name = ['KMeans', 'MiniBatchKMeans', 'AffinityPropagation']\n",
    "scores = [best_kmeans_score, best_mini_batch_kmeans_score, best_affinity_propagation_score]\n",
    "\n",
    "# Выбор лучшего метода по максимальной точности\n",
    "best_method_name = method_name[np.argmax(scores)]\n",
    "\n",
    "for id, name in enumerate(method_name):\n",
    "    print(f'Точность метода {name}: {scores[id]}')\n",
    "\n",
    "print(f'\\nИтог: лучшим оказался метод {best_method_name}')"
   ]
  }
 ],
 "metadata": {
  "kernelspec": {
   "display_name": "Python 3",
   "language": "python",
   "name": "python3"
  },
  "language_info": {
   "codemirror_mode": {
    "name": "ipython",
    "version": 3
   },
   "file_extension": ".py",
   "mimetype": "text/x-python",
   "name": "python",
   "nbconvert_exporter": "python",
   "pygments_lexer": "ipython3",
   "version": "3.10.10"
  },
  "vscode": {
   "interpreter": {
    "hash": "3fcbd7240ee8f908d933dc7f71e8c42a1a91163b70ede8dcff5146d4087436c7"
   }
  }
 },
 "nbformat": 4,
 "nbformat_minor": 2
}
